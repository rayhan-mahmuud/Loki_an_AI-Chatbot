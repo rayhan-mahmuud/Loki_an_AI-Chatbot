{
 "cells": [
  {
   "cell_type": "code",
   "execution_count": 1,
   "metadata": {},
   "outputs": [
    {
     "name": "stderr",
     "output_type": "stream",
     "text": [
      "g:\\Python\\ML\\Projects\\ChatBots\\Loki\\data.py:61: VisibleDeprecationWarning: Creating an ndarray from ragged nested sequences (which is a list-or-tuple of lists-or-tuples-or ndarrays with different lengths or shapes) is deprecated. If you meant to do this, you must specify 'dtype=object' when creating the ndarray.\n",
      "  dataset = np.array(dataset)\n"
     ]
    }
   ],
   "source": [
    "import numpy as np\n",
    "from data import x_train_final, y_train_final"
   ]
  },
  {
   "cell_type": "code",
   "execution_count": 2,
   "metadata": {},
   "outputs": [
    {
     "data": {
      "text/plain": [
       "(74, 92)"
      ]
     },
     "execution_count": 2,
     "metadata": {},
     "output_type": "execute_result"
    }
   ],
   "source": [
    "x_train_final.shape"
   ]
  },
  {
   "cell_type": "code",
   "execution_count": 20,
   "metadata": {},
   "outputs": [
    {
     "data": {
      "text/plain": [
       "(92,)"
      ]
     },
     "execution_count": 20,
     "metadata": {},
     "output_type": "execute_result"
    }
   ],
   "source": [
    "x_train_final[0].shape"
   ]
  },
  {
   "cell_type": "code",
   "execution_count": 24,
   "metadata": {},
   "outputs": [
    {
     "data": {
      "text/plain": [
       "17"
      ]
     },
     "execution_count": 24,
     "metadata": {},
     "output_type": "execute_result"
    }
   ],
   "source": [
    "y_train_final[0].shape[0]"
   ]
  },
  {
   "cell_type": "code",
   "execution_count": 27,
   "metadata": {},
   "outputs": [],
   "source": [
    "import tensorflow as tf\n",
    "from tensorflow import keras\n",
    "from tensorflow.keras import layers\n",
    "from keras.optimizers import SGD"
   ]
  },
  {
   "cell_type": "code",
   "execution_count": 52,
   "metadata": {},
   "outputs": [],
   "source": [
    "model = keras.models.Sequential(\n",
    "    [\n",
    "        layers.Dense(150, input_shape = x_train_final[0].shape, activation = 'relu'),\n",
    "        layers.Dropout(0.5),\n",
    "        layers.Dense(92, activation = 'relu'),\n",
    "        layers.Dropout(0.5),\n",
    "        layers.Dense(y_train_final[0].shape[0], activation = 'softmax')\n",
    "    ]\n",
    ")\n",
    "\n",
    "sgd = SGD(learning_rate= 0.01, decay = 1e-6, momentum= 0.9, nesterov= True)\n",
    "\n",
    "model.compile(\n",
    "    optimizer = sgd,\n",
    "    loss = \"categorical_crossentropy\",\n",
    "    metrics = [\"accuracy\"]   \n",
    ")\n",
    "\n",
    "\n"
   ]
  },
  {
   "cell_type": "code",
   "execution_count": 57,
   "metadata": {},
   "outputs": [
    {
     "name": "stdout",
     "output_type": "stream",
     "text": [
      "Epoch 1/100\n",
      "15/15 [==============================] - 0s 928us/step - loss: 0.0410 - accuracy: 0.9865\n",
      "Epoch 2/100\n",
      "15/15 [==============================] - 0s 926us/step - loss: 0.0471 - accuracy: 0.9730\n",
      "Epoch 3/100\n",
      "15/15 [==============================] - 0s 926us/step - loss: 0.0686 - accuracy: 0.9595\n",
      "Epoch 4/100\n",
      "15/15 [==============================] - 0s 996us/step - loss: 0.0904 - accuracy: 0.9459\n",
      "Epoch 5/100\n",
      "15/15 [==============================] - 0s 1ms/step - loss: 0.0425 - accuracy: 0.9865\n",
      "Epoch 6/100\n",
      "15/15 [==============================] - 0s 924us/step - loss: 0.0326 - accuracy: 0.9865\n",
      "Epoch 7/100\n",
      "15/15 [==============================] - 0s 853us/step - loss: 0.0343 - accuracy: 0.9865\n",
      "Epoch 8/100\n",
      "15/15 [==============================] - 0s 855us/step - loss: 0.0649 - accuracy: 0.9595\n",
      "Epoch 9/100\n",
      "15/15 [==============================] - 0s 786us/step - loss: 0.0577 - accuracy: 0.9730\n",
      "Epoch 10/100\n",
      "15/15 [==============================] - 0s 785us/step - loss: 0.0443 - accuracy: 1.0000\n",
      "Epoch 11/100\n",
      "15/15 [==============================] - 0s 931us/step - loss: 0.0640 - accuracy: 0.9865\n",
      "Epoch 12/100\n",
      "15/15 [==============================] - 0s 855us/step - loss: 0.0336 - accuracy: 1.0000\n",
      "Epoch 13/100\n",
      "15/15 [==============================] - 0s 892us/step - loss: 0.0537 - accuracy: 0.9865\n",
      "Epoch 14/100\n",
      "15/15 [==============================] - 0s 928us/step - loss: 0.0436 - accuracy: 1.0000\n",
      "Epoch 15/100\n",
      "15/15 [==============================] - 0s 852us/step - loss: 0.0508 - accuracy: 0.9730\n",
      "Epoch 16/100\n",
      "15/15 [==============================] - 0s 784us/step - loss: 0.0437 - accuracy: 0.9865\n",
      "Epoch 17/100\n",
      "15/15 [==============================] - 0s 857us/step - loss: 0.0706 - accuracy: 0.9730\n",
      "Epoch 18/100\n",
      "15/15 [==============================] - 0s 867us/step - loss: 0.0263 - accuracy: 0.9865\n",
      "Epoch 19/100\n",
      "15/15 [==============================] - 0s 853us/step - loss: 0.0580 - accuracy: 0.9730\n",
      "Epoch 20/100\n",
      "15/15 [==============================] - 0s 841us/step - loss: 0.0335 - accuracy: 1.0000\n",
      "Epoch 21/100\n",
      "15/15 [==============================] - 0s 999us/step - loss: 0.0290 - accuracy: 0.9730\n",
      "Epoch 22/100\n",
      "15/15 [==============================] - 0s 926us/step - loss: 0.1011 - accuracy: 0.9459\n",
      "Epoch 23/100\n",
      "15/15 [==============================] - 0s 857us/step - loss: 0.0163 - accuracy: 1.0000\n",
      "Epoch 24/100\n",
      "15/15 [==============================] - 0s 926us/step - loss: 0.0502 - accuracy: 0.9730\n",
      "Epoch 25/100\n",
      "15/15 [==============================] - 0s 855us/step - loss: 0.0622 - accuracy: 0.9865\n",
      "Epoch 26/100\n",
      "15/15 [==============================] - 0s 831us/step - loss: 0.0418 - accuracy: 0.9865\n",
      "Epoch 27/100\n",
      "15/15 [==============================] - 0s 857us/step - loss: 0.0383 - accuracy: 0.9865\n",
      "Epoch 28/100\n",
      "15/15 [==============================] - 0s 855us/step - loss: 0.0306 - accuracy: 0.9865\n",
      "Epoch 29/100\n",
      "15/15 [==============================] - 0s 857us/step - loss: 0.0431 - accuracy: 0.9865\n",
      "Epoch 30/100\n",
      "15/15 [==============================] - 0s 855us/step - loss: 0.0466 - accuracy: 0.9730\n",
      "Epoch 31/100\n",
      "15/15 [==============================] - 0s 855us/step - loss: 0.0519 - accuracy: 0.9730\n",
      "Epoch 32/100\n",
      "15/15 [==============================] - 0s 734us/step - loss: 0.0475 - accuracy: 0.9730\n",
      "Epoch 33/100\n",
      "15/15 [==============================] - 0s 782us/step - loss: 0.0845 - accuracy: 0.9730\n",
      "Epoch 34/100\n",
      "15/15 [==============================] - 0s 785us/step - loss: 0.0530 - accuracy: 0.9730\n",
      "Epoch 35/100\n",
      "15/15 [==============================] - 0s 788us/step - loss: 0.0425 - accuracy: 0.9865\n",
      "Epoch 36/100\n",
      "15/15 [==============================] - 0s 855us/step - loss: 0.0549 - accuracy: 0.9730\n",
      "Epoch 37/100\n",
      "15/15 [==============================] - 0s 809us/step - loss: 0.0492 - accuracy: 0.9865\n",
      "Epoch 38/100\n",
      "15/15 [==============================] - 0s 826us/step - loss: 0.0612 - accuracy: 0.9730\n",
      "Epoch 39/100\n",
      "15/15 [==============================] - 0s 784us/step - loss: 0.0469 - accuracy: 1.0000\n",
      "Epoch 40/100\n",
      "15/15 [==============================] - 0s 782us/step - loss: 0.0295 - accuracy: 0.9865\n",
      "Epoch 41/100\n",
      "15/15 [==============================] - 0s 857us/step - loss: 0.0267 - accuracy: 1.0000\n",
      "Epoch 42/100\n",
      "15/15 [==============================] - 0s 897us/step - loss: 0.0375 - accuracy: 0.9865\n",
      "Epoch 43/100\n",
      "15/15 [==============================] - 0s 925us/step - loss: 0.0176 - accuracy: 1.0000\n",
      "Epoch 44/100\n",
      "15/15 [==============================] - 0s 923us/step - loss: 0.0252 - accuracy: 1.0000\n",
      "Epoch 45/100\n",
      "15/15 [==============================] - 0s 858us/step - loss: 0.0307 - accuracy: 0.9730\n",
      "Epoch 46/100\n",
      "15/15 [==============================] - 0s 785us/step - loss: 0.0218 - accuracy: 0.9865\n",
      "Epoch 47/100\n",
      "15/15 [==============================] - 0s 812us/step - loss: 0.0405 - accuracy: 0.9730\n",
      "Epoch 48/100\n",
      "15/15 [==============================] - 0s 853us/step - loss: 0.0469 - accuracy: 0.9730\n",
      "Epoch 49/100\n",
      "15/15 [==============================] - 0s 857us/step - loss: 0.0473 - accuracy: 0.9730\n",
      "Epoch 50/100\n",
      "15/15 [==============================] - 0s 853us/step - loss: 0.0536 - accuracy: 0.9730\n",
      "Epoch 51/100\n",
      "15/15 [==============================] - 0s 853us/step - loss: 0.0380 - accuracy: 0.9865\n",
      "Epoch 52/100\n",
      "15/15 [==============================] - 0s 855us/step - loss: 0.0374 - accuracy: 0.9730\n",
      "Epoch 53/100\n",
      "15/15 [==============================] - 0s 861us/step - loss: 0.0439 - accuracy: 0.9730\n",
      "Epoch 54/100\n",
      "15/15 [==============================] - 0s 855us/step - loss: 0.0333 - accuracy: 1.0000\n",
      "Epoch 55/100\n",
      "15/15 [==============================] - 0s 863us/step - loss: 0.0516 - accuracy: 0.9730\n",
      "Epoch 56/100\n",
      "15/15 [==============================] - 0s 928us/step - loss: 0.0275 - accuracy: 0.9865\n",
      "Epoch 57/100\n",
      "15/15 [==============================] - 0s 842us/step - loss: 0.0250 - accuracy: 0.9865\n",
      "Epoch 58/100\n",
      "15/15 [==============================] - 0s 926us/step - loss: 0.0352 - accuracy: 0.9865\n",
      "Epoch 59/100\n",
      "15/15 [==============================] - 0s 780us/step - loss: 0.0543 - accuracy: 0.9865\n",
      "Epoch 60/100\n",
      "15/15 [==============================] - 0s 783us/step - loss: 0.0267 - accuracy: 0.9865\n",
      "Epoch 61/100\n",
      "15/15 [==============================] - 0s 846us/step - loss: 0.0413 - accuracy: 0.9865\n",
      "Epoch 62/100\n",
      "15/15 [==============================] - 0s 826us/step - loss: 0.0521 - accuracy: 0.9730\n",
      "Epoch 63/100\n",
      "15/15 [==============================] - 0s 1ms/step - loss: 0.0325 - accuracy: 0.9865\n",
      "Epoch 64/100\n",
      "15/15 [==============================] - 0s 857us/step - loss: 0.0457 - accuracy: 0.9730\n",
      "Epoch 65/100\n",
      "15/15 [==============================] - 0s 855us/step - loss: 0.0756 - accuracy: 0.9595\n",
      "Epoch 66/100\n",
      "15/15 [==============================] - 0s 855us/step - loss: 0.0304 - accuracy: 0.9865\n",
      "Epoch 67/100\n",
      "15/15 [==============================] - 0s 784us/step - loss: 0.0841 - accuracy: 0.9595\n",
      "Epoch 68/100\n",
      "15/15 [==============================] - 0s 766us/step - loss: 0.0331 - accuracy: 1.0000\n",
      "Epoch 69/100\n",
      "15/15 [==============================] - 0s 857us/step - loss: 0.0250 - accuracy: 0.9865\n",
      "Epoch 70/100\n",
      "15/15 [==============================] - 0s 928us/step - loss: 0.0765 - accuracy: 0.9595\n",
      "Epoch 71/100\n",
      "15/15 [==============================] - 0s 999us/step - loss: 0.0355 - accuracy: 0.9730\n",
      "Epoch 72/100\n",
      "15/15 [==============================] - 0s 925us/step - loss: 0.0217 - accuracy: 1.0000\n",
      "Epoch 73/100\n",
      "15/15 [==============================] - 0s 855us/step - loss: 0.0688 - accuracy: 0.9730\n",
      "Epoch 74/100\n",
      "15/15 [==============================] - 0s 855us/step - loss: 0.0555 - accuracy: 0.9595\n",
      "Epoch 75/100\n",
      "15/15 [==============================] - 0s 784us/step - loss: 0.0364 - accuracy: 1.0000\n",
      "Epoch 76/100\n",
      "15/15 [==============================] - 0s 855us/step - loss: 0.0506 - accuracy: 0.9730\n",
      "Epoch 77/100\n",
      "15/15 [==============================] - 0s 782us/step - loss: 0.0387 - accuracy: 0.9730\n",
      "Epoch 78/100\n",
      "15/15 [==============================] - 0s 914us/step - loss: 0.0249 - accuracy: 0.9865\n",
      "Epoch 79/100\n",
      "15/15 [==============================] - 0s 855us/step - loss: 0.0296 - accuracy: 0.9865\n",
      "Epoch 80/100\n",
      "15/15 [==============================] - 0s 855us/step - loss: 0.0373 - accuracy: 0.9865\n",
      "Epoch 81/100\n",
      "15/15 [==============================] - 0s 857us/step - loss: 0.0638 - accuracy: 0.9595\n",
      "Epoch 82/100\n",
      "15/15 [==============================] - 0s 855us/step - loss: 0.0310 - accuracy: 0.9730\n",
      "Epoch 83/100\n",
      "15/15 [==============================] - 0s 784us/step - loss: 0.0378 - accuracy: 0.9730\n",
      "Epoch 84/100\n",
      "15/15 [==============================] - 0s 857us/step - loss: 0.0259 - accuracy: 1.0000\n",
      "Epoch 85/100\n",
      "15/15 [==============================] - 0s 786us/step - loss: 0.0321 - accuracy: 0.9865\n",
      "Epoch 86/100\n",
      "15/15 [==============================] - 0s 857us/step - loss: 0.0408 - accuracy: 0.9730\n",
      "Epoch 87/100\n",
      "15/15 [==============================] - 0s 855us/step - loss: 0.0578 - accuracy: 0.9730\n",
      "Epoch 88/100\n",
      "15/15 [==============================] - 0s 784us/step - loss: 0.0301 - accuracy: 0.9865\n",
      "Epoch 89/100\n",
      "15/15 [==============================] - 0s 784us/step - loss: 0.0309 - accuracy: 0.9865\n",
      "Epoch 90/100\n",
      "15/15 [==============================] - 0s 849us/step - loss: 0.0416 - accuracy: 0.9865\n",
      "Epoch 91/100\n",
      "15/15 [==============================] - 0s 784us/step - loss: 0.0375 - accuracy: 0.9865\n",
      "Epoch 92/100\n",
      "15/15 [==============================] - 0s 875us/step - loss: 0.0254 - accuracy: 1.0000\n",
      "Epoch 93/100\n",
      "15/15 [==============================] - 0s 926us/step - loss: 0.0282 - accuracy: 0.9865\n",
      "Epoch 94/100\n",
      "15/15 [==============================] - 0s 855us/step - loss: 0.0302 - accuracy: 0.9865\n",
      "Epoch 95/100\n",
      "15/15 [==============================] - 0s 824us/step - loss: 0.0697 - accuracy: 0.9595\n",
      "Epoch 96/100\n",
      "15/15 [==============================] - 0s 855us/step - loss: 0.0620 - accuracy: 1.0000\n",
      "Epoch 97/100\n",
      "15/15 [==============================] - 0s 933us/step - loss: 0.0389 - accuracy: 0.9730\n",
      "Epoch 98/100\n",
      "15/15 [==============================] - 0s 855us/step - loss: 0.0422 - accuracy: 0.9730\n",
      "Epoch 99/100\n",
      "15/15 [==============================] - 0s 881us/step - loss: 0.0321 - accuracy: 0.9865\n",
      "Epoch 100/100\n",
      "15/15 [==============================] - 0s 856us/step - loss: 0.0291 - accuracy: 0.9865\n"
     ]
    }
   ],
   "source": [
    "history = model.fit(x_train_final, y_train_final, epochs= 100, batch_size= 5, verbose= 1)"
   ]
  },
  {
   "cell_type": "code",
   "execution_count": 58,
   "metadata": {},
   "outputs": [],
   "source": [
    "model.save(\"chatbot_Loki.h5\", history)"
   ]
  },
  {
   "cell_type": "code",
   "execution_count": null,
   "metadata": {},
   "outputs": [],
   "source": []
  }
 ],
 "metadata": {
  "kernelspec": {
   "display_name": "botVenv",
   "language": "python",
   "name": "python3"
  },
  "language_info": {
   "codemirror_mode": {
    "name": "ipython",
    "version": 3
   },
   "file_extension": ".py",
   "mimetype": "text/x-python",
   "name": "python",
   "nbconvert_exporter": "python",
   "pygments_lexer": "ipython3",
   "version": "3.11.1"
  },
  "orig_nbformat": 4
 },
 "nbformat": 4,
 "nbformat_minor": 2
}
